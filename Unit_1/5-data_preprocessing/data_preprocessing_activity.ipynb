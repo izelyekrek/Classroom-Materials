{
 "cells": [
  {
   "cell_type": "code",
   "execution_count": 1,
   "id": "4686865c-1fea-49e5-9757-e98e590e2c21",
   "metadata": {},
   "outputs": [],
   "source": [
    "import pandas as pd\n",
    "import numpy as np\n",
    "import matplotlib.pyplot as plt\n",
    "import seaborn as sns\n",
    "from scipy import stats\n",
    "from sklearn.preprocessing import Normalizer\n",
    "from sklearn.preprocessing import StandardScaler\n",
    "\n",
    "import warnings\n",
    "warnings.filterwarnings('ignore') "
   ]
  },
  {
   "cell_type": "code",
   "execution_count": 2,
   "id": "71e74747-d425-4088-b9a6-c382ba33d2f7",
   "metadata": {},
   "outputs": [],
   "source": [
    "data = pd.read_csv('regression_data1.csv')"
   ]
  },
  {
   "cell_type": "markdown",
   "id": "2d99d10e-e254-4bcc-ba8b-a919e3d9f93a",
   "metadata": {},
   "source": [
    "### Activity 1\n",
    "Refer to the files_for_activities/regression_data1.csv file. (The same file used in the class example.)\n",
    "\n",
    "- Draw a box plot for the IC2.\n",
    "- Print the descriptive statistics for IC2.\n",
    "- Remove the outliers from the column IC2.\n"
   ]
  },
  {
   "cell_type": "code",
   "execution_count": 4,
   "id": "04213956-1210-490f-b01f-f31f139aa0f2",
   "metadata": {},
   "outputs": [
    {
     "data": {
      "image/png": "[encoded data removed]",
      "text/plain": [
       "<Figure size 432x288 with 1 Axes>"
      ]
     },
     "metadata": {
      "needs_background": "light"
     },
     "output_type": "display_data"
    }
   ],
   "source": [
    "plt.boxplot(data['IC2'])\n",
    "plt.show()"
   ]
  },
  {
   "cell_type": "code",
   "execution_count": 10,
   "id": "c8ac2628-dd81-467b-b201-5a54a0b900ff",
   "metadata": {},
   "outputs": [
    {
     "data": {
      "text/html": [
       "<div>\n",
       "<style scoped>\n",
       "    .dataframe tbody tr th:only-of-type {\n",
       "        vertical-align: middle;\n",
       "    }\n",
       "\n",
       "    .dataframe tbody tr th {\n",
       "        vertical-align: top;\n",
       "    }\n",
       "\n",
       "    .dataframe thead th {\n",
       "        text-align: right;\n",
       "    }\n",
       "</style>\n",
       "<table border=\"1\" class=\"dataframe\">\n",
       "  <thead>\n",
       "    <tr style=\"text-align: right;\">\n",
       "      <th></th>\n",
       "      <th>HV1</th>\n",
       "      <th>IC1</th>\n",
       "      <th>IC2</th>\n",
       "      <th>IC3</th>\n",
       "      <th>IC4</th>\n",
       "      <th>IC5</th>\n",
       "      <th>AVGGIFT</th>\n",
       "      <th>TARGET_D</th>\n",
       "    </tr>\n",
       "  </thead>\n",
       "  <tbody>\n",
       "    <tr>\n",
       "      <th>count</th>\n",
       "      <td>4843.000000</td>\n",
       "      <td>4843.000000</td>\n",
       "      <td>4843.000000</td>\n",
       "      <td>4843.000000</td>\n",
       "      <td>4843.000000</td>\n",
       "      <td>4843.000000</td>\n",
       "      <td>4843.000000</td>\n",
       "      <td>4843.000000</td>\n",
       "    </tr>\n",
       "    <tr>\n",
       "      <th>mean</th>\n",
       "      <td>1163.701425</td>\n",
       "      <td>352.831922</td>\n",
       "      <td>401.913690</td>\n",
       "      <td>400.962214</td>\n",
       "      <td>446.035102</td>\n",
       "      <td>16483.862482</td>\n",
       "      <td>11.836754</td>\n",
       "      <td>15.624344</td>\n",
       "    </tr>\n",
       "    <tr>\n",
       "      <th>std</th>\n",
       "      <td>1032.104682</td>\n",
       "      <td>171.357547</td>\n",
       "      <td>182.660078</td>\n",
       "      <td>166.681913</td>\n",
       "      <td>176.689128</td>\n",
       "      <td>9499.090544</td>\n",
       "      <td>10.147951</td>\n",
       "      <td>12.445137</td>\n",
       "    </tr>\n",
       "    <tr>\n",
       "      <th>min</th>\n",
       "      <td>0.000000</td>\n",
       "      <td>0.000000</td>\n",
       "      <td>0.000000</td>\n",
       "      <td>0.000000</td>\n",
       "      <td>0.000000</td>\n",
       "      <td>0.000000</td>\n",
       "      <td>2.260870</td>\n",
       "      <td>1.000000</td>\n",
       "    </tr>\n",
       "    <tr>\n",
       "      <th>25%</th>\n",
       "      <td>548.000000</td>\n",
       "      <td>239.000000</td>\n",
       "      <td>283.000000</td>\n",
       "      <td>287.000000</td>\n",
       "      <td>325.000000</td>\n",
       "      <td>11164.000000</td>\n",
       "      <td>7.181818</td>\n",
       "      <td>10.000000</td>\n",
       "    </tr>\n",
       "    <tr>\n",
       "      <th>50%</th>\n",
       "      <td>809.000000</td>\n",
       "      <td>318.000000</td>\n",
       "      <td>366.000000</td>\n",
       "      <td>366.000000</td>\n",
       "      <td>411.000000</td>\n",
       "      <td>14377.000000</td>\n",
       "      <td>10.000000</td>\n",
       "      <td>13.000000</td>\n",
       "    </tr>\n",
       "    <tr>\n",
       "      <th>75%</th>\n",
       "      <td>1367.500000</td>\n",
       "      <td>427.000000</td>\n",
       "      <td>481.000000</td>\n",
       "      <td>482.500000</td>\n",
       "      <td>531.500000</td>\n",
       "      <td>18819.500000</td>\n",
       "      <td>14.500000</td>\n",
       "      <td>20.000000</td>\n",
       "    </tr>\n",
       "    <tr>\n",
       "      <th>max</th>\n",
       "      <td>5982.000000</td>\n",
       "      <td>1500.000000</td>\n",
       "      <td>1500.000000</td>\n",
       "      <td>1394.000000</td>\n",
       "      <td>1394.000000</td>\n",
       "      <td>174523.000000</td>\n",
       "      <td>450.000000</td>\n",
       "      <td>200.000000</td>\n",
       "    </tr>\n",
       "  </tbody>\n",
       "</table>\n",
       "</div>"
      ],
      "text/plain": [
       "               HV1          IC1          IC2          IC3          IC4  \\\n",
       "count  4843.000000  4843.000000  4843.000000  4843.000000  4843.000000   \n",
       "mean   1163.701425   352.831922   401.913690   400.962214   446.035102   \n",
       "std    1032.104682   171.357547   182.660078   166.681913   176.689128   \n",
       "min       0.000000     0.000000     0.000000     0.000000     0.000000   \n",
       "25%     548.000000   239.000000   283.000000   287.000000   325.000000   \n",
       "50%     809.000000   318.000000   366.000000   366.000000   411.000000   \n",
       "75%    1367.500000   427.000000   481.000000   482.500000   531.500000   \n",
       "max    5982.000000  1500.000000  1500.000000  1394.000000  1394.000000   \n",
       "\n",
       "                 IC5      AVGGIFT     TARGET_D  \n",
       "count    4843.000000  4843.000000  4843.000000  \n",
       "mean    16483.862482    11.836754    15.624344  \n",
       "std      9499.090544    10.147951    12.445137  \n",
       "min         0.000000     2.260870     1.000000  \n",
       "25%     11164.000000     7.181818    10.000000  \n",
       "50%     14377.000000    10.000000    13.000000  \n",
       "75%     18819.500000    14.500000    20.000000  \n",
       "max    174523.000000   450.000000   200.000000  "
      ]
     },
     "execution_count": 10,
     "metadata": {},
     "output_type": "execute_result"
    }
   ],
   "source": [
    "data.describe()"
   ]
  },
  {
   "cell_type": "code",
   "execution_count": 5,
   "id": "2f1d81ec-ee34-4c7a-9535-4c5d06438c80",
   "metadata": {},
   "outputs": [
    {
     "data": {
      "text/plain": [
       "count    4843.000000\n",
       "mean      401.913690\n",
       "std       182.660078\n",
       "min         0.000000\n",
       "25%       283.000000\n",
       "50%       366.000000\n",
       "75%       481.000000\n",
       "max      1500.000000\n",
       "Name: IC2, dtype: float64"
      ]
     },
     "execution_count": 5,
     "metadata": {},
     "output_type": "execute_result"
    }
   ],
   "source": [
    "data.describe()['IC2']"
   ]
  },
  {
   "cell_type": "code",
   "execution_count": 6,
   "id": "d34b4524-0699-453b-a0e7-02c6abad629c",
   "metadata": {},
   "outputs": [
    {
     "data": {
      "text/plain": [
       "198.0"
      ]
     },
     "execution_count": 6,
     "metadata": {},
     "output_type": "execute_result"
    }
   ],
   "source": [
    "iqr = np.percentile(data['IC2'],75) - np.percentile(data['IC2'],25) # data['IC1'].quantile(0.75)\n",
    "iqr"
   ]
  },
  {
   "cell_type": "code",
   "execution_count": 7,
   "id": "d6ecc09c-56d1-4f8f-8233-b95cd462b0b6",
   "metadata": {},
   "outputs": [
    {
     "data": {
      "text/plain": [
       "(283.0, 481.0)"
      ]
     },
     "execution_count": 7,
     "metadata": {},
     "output_type": "execute_result"
    }
   ],
   "source": [
    "np.percentile(data['IC2'],25),np.percentile(data['IC2'],75)"
   ]
  },
  {
   "cell_type": "code",
   "execution_count": 8,
   "id": "040d6909-23e1-40b3-a6f6-f2efc84f51b1",
   "metadata": {},
   "outputs": [
    {
     "data": {
      "text/plain": [
       "(778.0, -14.0)"
      ]
     },
     "execution_count": 8,
     "metadata": {},
     "output_type": "execute_result"
    }
   ],
   "source": [
    "upper_limit = np.percentile(data['IC2'],75) + 1.5*iqr\n",
    "lower_limit = np.percentile(data['IC2'],25) - 1.5*iqr\n",
    "upper_limit, lower_limit"
   ]
  },
  {
   "cell_type": "code",
   "execution_count": 11,
   "id": "931b8b66-f348-48be-b1ce-9acc788bcd87",
   "metadata": {},
   "outputs": [
    {
     "data": {
      "text/plain": [
       "85       936\n",
       "152      880\n",
       "169     1044\n",
       "172      939\n",
       "208      824\n",
       "        ... \n",
       "4608    1077\n",
       "4694     943\n",
       "4741     911\n",
       "4773    1022\n",
       "4816     823\n",
       "Name: IC2, Length: 173, dtype: int64"
      ]
     },
     "execution_count": 11,
     "metadata": {},
     "output_type": "execute_result"
    }
   ],
   "source": [
    "data.loc[data['IC2'] > upper_limit, 'IC2']"
   ]
  },
  {
   "cell_type": "code",
   "execution_count": null,
   "id": "7e83f021-b699-46fc-a6b6-51aa65ed723e",
   "metadata": {},
   "outputs": [],
   "source": [
    "# method 1\n",
    "data = data[(data['IC2'] > lower_limit) & (data['IC2'] < upper_limit)]\n",
    "\n",
    "# method 2\n",
    "data.loc[data['IC2'] > upper_limit, 'IC2'] = upper_limit\n",
    "data.loc[data['IC2'] < lower_limit, 'IC2'] = lower_limit"
   ]
  },
  {
   "cell_type": "markdown",
   "id": "8450fbed-7b12-4392-a449-ca26b7583f48",
   "metadata": {},
   "source": [
    "### Activity 2\n",
    "Keep using the same file.\n",
    "\n",
    "- Repeat the process(log transformation) for the column IC3. Define the function again yourself.\n",
    "- Remove the tails of the transformed column to make it closer to the normal distribution. This time change the factor from 1.5 to 3 when calculating the upper limit and the lower limit. Check the distribution plot. Does it remove the tails effectively? If not change the factor back to 1.5 and see the results."
   ]
  },
  {
   "cell_type": "code",
   "execution_count": 17,
   "id": "2c2469af-3228-4096-bd8b-91ffd948a31d",
   "metadata": {},
   "outputs": [],
   "source": [
    "data1 = data.copy()"
   ]
  },
  {
   "cell_type": "code",
   "execution_count": 18,
   "id": "a2b34daa-9324-4902-949f-1a212b537410",
   "metadata": {},
   "outputs": [
    {
     "data": {
      "image/png": "[encoded data removed]",
      "text/plain": [
       "<Figure size 432x288 with 1 Axes>"
      ]
     },
     "metadata": {
      "needs_background": "light"
     },
     "output_type": "display_data"
    }
   ],
   "source": [
    "sns.distplot(data1['IC3'])\n",
    "plt.show()"
   ]
  },
  {
   "cell_type": "code",
   "execution_count": 30,
   "id": "057a4eef-d404-459c-a15d-13244ae21d20",
   "metadata": {},
   "outputs": [
    {
     "data": {
      "image/png": "[encoded data removed]",
      "text/plain": [
       "<Figure size 432x288 with 1 Axes>"
      ]
     },
     "metadata": {
      "needs_background": "light"
     },
     "output_type": "display_data"
    }
   ],
   "source": [
    "sns.boxplot(data1['IC3'], whis=1.5)\n",
    "plt.show()"
   ]
  },
  {
   "cell_type": "code",
   "execution_count": 31,
   "id": "05045347-79d7-4684-bd4a-144f9b4e4fec",
   "metadata": {},
   "outputs": [
    {
     "data": {
      "image/png": "[encoded data removed]",
      "text/plain": [
       "<Figure size 432x288 with 1 Axes>"
      ]
     },
     "metadata": {
      "needs_background": "light"
     },
     "output_type": "display_data"
    }
   ],
   "source": [
    "sns.boxplot(data1['IC3'], whis=2)\n",
    "plt.show()"
   ]
  },
  {
   "cell_type": "code",
   "execution_count": 20,
   "id": "08325724-1d94-48d4-8752-78aea8e08b69",
   "metadata": {},
   "outputs": [
    {
     "data": {
      "image/png": "[encoded data removed]",
      "text/plain": [
       "<Figure size 432x288 with 1 Axes>"
      ]
     },
     "metadata": {
      "needs_background": "light"
     },
     "output_type": "display_data"
    }
   ],
   "source": [
    "data1 = data.copy()\n",
    "\n",
    "# we are replacing the -inf values after we take logarithm of 0\n",
    "# we'll test 2 options (replacing -inf by zero or by the mean of the column after the log transformation)\n",
    "\n",
    "log_lmbda = lambda x: np.log(x) if np.isfinite(np.log(x)) else np.NAN\n",
    "\n",
    "data1['IC3'] = data1['IC3'].apply(log_lmbda)\n",
    "\n",
    "data1['IC3'] = data1['IC3'].fillna(np.mean(data1['IC3']))\n",
    "\n",
    "sns.distplot(data1['IC3'])\n",
    "plt.show()"
   ]
  },
  {
   "cell_type": "code",
   "execution_count": 21,
   "id": "31afd470-f0db-4583-bf97-33fb7f092c2d",
   "metadata": {},
   "outputs": [
    {
     "data": {
      "image/png": "[encoded data removed]",
      "text/plain": [
       "<Figure size 432x288 with 1 Axes>"
      ]
     },
     "metadata": {
      "needs_background": "light"
     },
     "output_type": "display_data"
    }
   ],
   "source": [
    "sns.boxplot(data1['IC3'])\n",
    "plt.show()"
   ]
  },
  {
   "cell_type": "markdown",
   "id": "096abd9c-3e5b-4e08-be02-a6b1aa24fcfd",
   "metadata": {},
   "source": [
    "### Activity 3\n",
    "Repeat the same steps for column IC5 for box-cox transformation.\n"
   ]
  },
  {
   "cell_type": "code",
   "execution_count": 35,
   "id": "a8259985-c60b-4192-80ca-2d73d11c1923",
   "metadata": {},
   "outputs": [
    {
     "data": {
      "image/png": "[encoded data removed]",
      "text/plain": [
       "<Figure size 432x288 with 1 Axes>"
      ]
     },
     "metadata": {
      "needs_background": "light"
     },
     "output_type": "display_data"
    }
   ],
   "source": [
    "# BoxCox transformation\n",
    "\n",
    "# Since this is median household income, we can filter out negative values:\n",
    "# if you do not want to lose this data, replace it with the mean of the column\n",
    "\n",
    "data1 = data.copy()\n",
    "\n",
    "data1['IC5'] = np.where(data1['IC5']<=0, np.NAN, data1['IC5'])\n",
    "\n",
    "data1['IC5'] = data1['IC5'].fillna(data1['IC5'].mean())\n",
    "\n",
    "transformed_data, _ci = stats.boxcox(data1['IC5'])\n",
    "\n",
    "sns.distplot(transformed_data)\n",
    "plt.show()"
   ]
  },
  {
   "cell_type": "code",
   "execution_count": null,
   "id": "ca0806ed-e6bd-45b0-87a2-63a5e797cdd7",
   "metadata": {},
   "outputs": [],
   "source": []
  }
 ],
 "metadata": {
  "kernelspec": {
   "display_name": "Python 3",
   "language": "python",
   "name": "python3"
  },
  "language_info": {
   "codemirror_mode": {
    "name": "ipython",
    "version": 3
   },
   "file_extension": ".py",
   "mimetype": "text/x-python",
   "name": "python",
   "nbconvert_exporter": "python",
   "pygments_lexer": "ipython3",
   "version": "3.8.2"
  }
 },
 "nbformat": 4,
 "nbformat_minor": 5
}
